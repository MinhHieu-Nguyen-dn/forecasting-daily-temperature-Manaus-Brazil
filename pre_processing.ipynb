{
 "cells": [
  {
   "cell_type": "code",
   "execution_count": 1,
   "metadata": {
    "collapsed": true
   },
   "outputs": [],
   "source": [
    "import pandas as pd"
   ]
  },
  {
   "cell_type": "markdown",
   "source": [
    "Read data from the original .csv file, using \";\" as the delimiter."
   ],
   "metadata": {
    "collapsed": false,
    "pycharm": {
     "name": "#%% md\n"
    }
   }
  },
  {
   "cell_type": "code",
   "execution_count": 2,
   "outputs": [],
   "source": [
    "df_all = pd.read_csv('data_raw\\many_factors\\conventional_weather_stations_inmet_brazil_1961_2019.csv', sep= ';')"
   ],
   "metadata": {
    "collapsed": false,
    "pycharm": {
     "name": "#%%\n"
    }
   }
  },
  {
   "cell_type": "code",
   "execution_count": 3,
   "outputs": [
    {
     "data": {
      "text/plain": "          Estacao        Data  Hora  Precipitacao  TempBulboSeco  \\\n0           82024  01/01/1961     0           NaN            NaN   \n1           82024  01/01/1961  1200           NaN           26.0   \n2           82024  01/01/1961  1800           NaN           32.3   \n3           82024  02/01/1961     0           NaN           25.8   \n4           82024  02/01/1961  1200          16.0           26.8   \n...           ...         ...   ...           ...            ...   \n12251330    83379  30/12/2019  1200           0.0           24.2   \n12251331    83379  30/12/2019  1800           NaN           29.7   \n12251332    83379  31/12/2019     0           NaN           26.6   \n12251333    83379  31/12/2019  1200           0.0           26.9   \n12251334    83379  31/12/2019  1800           NaN           30.1   \n\n          TempBulboUmido  TempMaxima  TempMinima  UmidadeRelativa  \\\n0                    NaN        32.3         NaN              NaN   \n1                   23.9         NaN        22.9             83.0   \n2                   27.0         NaN         NaN             65.0   \n3                   24.6        33.2         NaN             91.0   \n4                   24.0         NaN        23.7             78.0   \n...                  ...         ...         ...              ...   \n12251330             NaN         NaN        21.1             66.0   \n12251331             NaN         NaN         NaN             46.0   \n12251332             NaN        31.6         NaN             55.0   \n12251333             NaN         NaN        21.3             54.0   \n12251334             NaN         NaN         NaN             43.0   \n\n          PressaoAtmEstacao  PressaoAtmMar  DirecaoVento  VelocidadeVento  \\\n0                       NaN            NaN           NaN              NaN   \n1                     994.2            NaN           5.0          5.00000   \n2                     991.6            NaN           5.0          3.00000   \n3                     991.9            NaN           9.0          1.00000   \n4                     995.0            NaN           5.0          7.00000   \n...                     ...            ...           ...              ...   \n12251330              909.0         1008.8           5.0          1.02888   \n12251331              905.4         1004.1          36.0          1.02888   \n12251332              905.5         1004.8          27.0          1.02888   \n12251333              908.6         1007.5           0.0          0.00000   \n12251334              906.0         1005.0           0.0          0.00000   \n\n          Insolacao  Nebulosidade  Evaporacao Piche  Temp Comp Media  \\\n0               4.4           NaN               NaN            26.56   \n1               NaN          8.00               NaN              NaN   \n2               NaN          9.00               NaN              NaN   \n3              10.0          7.00               NaN            28.06   \n4               NaN          7.00               NaN              NaN   \n...             ...           ...               ...              ...   \n12251330        NaN          7.50               NaN              NaN   \n12251331        NaN          7.50               NaN              NaN   \n12251332        6.0          0.00               NaN            25.28   \n12251333        NaN          8.75               NaN              NaN   \n12251334        NaN          8.75               NaN              NaN   \n\n          Umidade Relativa Media  Velocidade do Vento Media  Unnamed: 19  \n0                          82.50                   3.000000          NaN  \n1                            NaN                        NaN          NaN  \n2                            NaN                        NaN          NaN  \n3                          77.50                   5.666667          NaN  \n4                            NaN                        NaN          NaN  \n...                          ...                        ...          ...  \n12251330                     NaN                        NaN          NaN  \n12251331                     NaN                        NaN          NaN  \n12251332                   58.75                   0.000000          NaN  \n12251333                     NaN                        NaN          NaN  \n12251334                     NaN                        NaN          NaN  \n\n[12251335 rows x 20 columns]",
      "text/html": "<div>\n<style scoped>\n    .dataframe tbody tr th:only-of-type {\n        vertical-align: middle;\n    }\n\n    .dataframe tbody tr th {\n        vertical-align: top;\n    }\n\n    .dataframe thead th {\n        text-align: right;\n    }\n</style>\n<table border=\"1\" class=\"dataframe\">\n  <thead>\n    <tr style=\"text-align: right;\">\n      <th></th>\n      <th>Estacao</th>\n      <th>Data</th>\n      <th>Hora</th>\n      <th>Precipitacao</th>\n      <th>TempBulboSeco</th>\n      <th>TempBulboUmido</th>\n      <th>TempMaxima</th>\n      <th>TempMinima</th>\n      <th>UmidadeRelativa</th>\n      <th>PressaoAtmEstacao</th>\n      <th>PressaoAtmMar</th>\n      <th>DirecaoVento</th>\n      <th>VelocidadeVento</th>\n      <th>Insolacao</th>\n      <th>Nebulosidade</th>\n      <th>Evaporacao Piche</th>\n      <th>Temp Comp Media</th>\n      <th>Umidade Relativa Media</th>\n      <th>Velocidade do Vento Media</th>\n      <th>Unnamed: 19</th>\n    </tr>\n  </thead>\n  <tbody>\n    <tr>\n      <th>0</th>\n      <td>82024</td>\n      <td>01/01/1961</td>\n      <td>0</td>\n      <td>NaN</td>\n      <td>NaN</td>\n      <td>NaN</td>\n      <td>32.3</td>\n      <td>NaN</td>\n      <td>NaN</td>\n      <td>NaN</td>\n      <td>NaN</td>\n      <td>NaN</td>\n      <td>NaN</td>\n      <td>4.4</td>\n      <td>NaN</td>\n      <td>NaN</td>\n      <td>26.56</td>\n      <td>82.50</td>\n      <td>3.000000</td>\n      <td>NaN</td>\n    </tr>\n    <tr>\n      <th>1</th>\n      <td>82024</td>\n      <td>01/01/1961</td>\n      <td>1200</td>\n      <td>NaN</td>\n      <td>26.0</td>\n      <td>23.9</td>\n      <td>NaN</td>\n      <td>22.9</td>\n      <td>83.0</td>\n      <td>994.2</td>\n      <td>NaN</td>\n      <td>5.0</td>\n      <td>5.00000</td>\n      <td>NaN</td>\n      <td>8.00</td>\n      <td>NaN</td>\n      <td>NaN</td>\n      <td>NaN</td>\n      <td>NaN</td>\n      <td>NaN</td>\n    </tr>\n    <tr>\n      <th>2</th>\n      <td>82024</td>\n      <td>01/01/1961</td>\n      <td>1800</td>\n      <td>NaN</td>\n      <td>32.3</td>\n      <td>27.0</td>\n      <td>NaN</td>\n      <td>NaN</td>\n      <td>65.0</td>\n      <td>991.6</td>\n      <td>NaN</td>\n      <td>5.0</td>\n      <td>3.00000</td>\n      <td>NaN</td>\n      <td>9.00</td>\n      <td>NaN</td>\n      <td>NaN</td>\n      <td>NaN</td>\n      <td>NaN</td>\n      <td>NaN</td>\n    </tr>\n    <tr>\n      <th>3</th>\n      <td>82024</td>\n      <td>02/01/1961</td>\n      <td>0</td>\n      <td>NaN</td>\n      <td>25.8</td>\n      <td>24.6</td>\n      <td>33.2</td>\n      <td>NaN</td>\n      <td>91.0</td>\n      <td>991.9</td>\n      <td>NaN</td>\n      <td>9.0</td>\n      <td>1.00000</td>\n      <td>10.0</td>\n      <td>7.00</td>\n      <td>NaN</td>\n      <td>28.06</td>\n      <td>77.50</td>\n      <td>5.666667</td>\n      <td>NaN</td>\n    </tr>\n    <tr>\n      <th>4</th>\n      <td>82024</td>\n      <td>02/01/1961</td>\n      <td>1200</td>\n      <td>16.0</td>\n      <td>26.8</td>\n      <td>24.0</td>\n      <td>NaN</td>\n      <td>23.7</td>\n      <td>78.0</td>\n      <td>995.0</td>\n      <td>NaN</td>\n      <td>5.0</td>\n      <td>7.00000</td>\n      <td>NaN</td>\n      <td>7.00</td>\n      <td>NaN</td>\n      <td>NaN</td>\n      <td>NaN</td>\n      <td>NaN</td>\n      <td>NaN</td>\n    </tr>\n    <tr>\n      <th>...</th>\n      <td>...</td>\n      <td>...</td>\n      <td>...</td>\n      <td>...</td>\n      <td>...</td>\n      <td>...</td>\n      <td>...</td>\n      <td>...</td>\n      <td>...</td>\n      <td>...</td>\n      <td>...</td>\n      <td>...</td>\n      <td>...</td>\n      <td>...</td>\n      <td>...</td>\n      <td>...</td>\n      <td>...</td>\n      <td>...</td>\n      <td>...</td>\n      <td>...</td>\n    </tr>\n    <tr>\n      <th>12251330</th>\n      <td>83379</td>\n      <td>30/12/2019</td>\n      <td>1200</td>\n      <td>0.0</td>\n      <td>24.2</td>\n      <td>NaN</td>\n      <td>NaN</td>\n      <td>21.1</td>\n      <td>66.0</td>\n      <td>909.0</td>\n      <td>1008.8</td>\n      <td>5.0</td>\n      <td>1.02888</td>\n      <td>NaN</td>\n      <td>7.50</td>\n      <td>NaN</td>\n      <td>NaN</td>\n      <td>NaN</td>\n      <td>NaN</td>\n      <td>NaN</td>\n    </tr>\n    <tr>\n      <th>12251331</th>\n      <td>83379</td>\n      <td>30/12/2019</td>\n      <td>1800</td>\n      <td>NaN</td>\n      <td>29.7</td>\n      <td>NaN</td>\n      <td>NaN</td>\n      <td>NaN</td>\n      <td>46.0</td>\n      <td>905.4</td>\n      <td>1004.1</td>\n      <td>36.0</td>\n      <td>1.02888</td>\n      <td>NaN</td>\n      <td>7.50</td>\n      <td>NaN</td>\n      <td>NaN</td>\n      <td>NaN</td>\n      <td>NaN</td>\n      <td>NaN</td>\n    </tr>\n    <tr>\n      <th>12251332</th>\n      <td>83379</td>\n      <td>31/12/2019</td>\n      <td>0</td>\n      <td>NaN</td>\n      <td>26.6</td>\n      <td>NaN</td>\n      <td>31.6</td>\n      <td>NaN</td>\n      <td>55.0</td>\n      <td>905.5</td>\n      <td>1004.8</td>\n      <td>27.0</td>\n      <td>1.02888</td>\n      <td>6.0</td>\n      <td>0.00</td>\n      <td>NaN</td>\n      <td>25.28</td>\n      <td>58.75</td>\n      <td>0.000000</td>\n      <td>NaN</td>\n    </tr>\n    <tr>\n      <th>12251333</th>\n      <td>83379</td>\n      <td>31/12/2019</td>\n      <td>1200</td>\n      <td>0.0</td>\n      <td>26.9</td>\n      <td>NaN</td>\n      <td>NaN</td>\n      <td>21.3</td>\n      <td>54.0</td>\n      <td>908.6</td>\n      <td>1007.5</td>\n      <td>0.0</td>\n      <td>0.00000</td>\n      <td>NaN</td>\n      <td>8.75</td>\n      <td>NaN</td>\n      <td>NaN</td>\n      <td>NaN</td>\n      <td>NaN</td>\n      <td>NaN</td>\n    </tr>\n    <tr>\n      <th>12251334</th>\n      <td>83379</td>\n      <td>31/12/2019</td>\n      <td>1800</td>\n      <td>NaN</td>\n      <td>30.1</td>\n      <td>NaN</td>\n      <td>NaN</td>\n      <td>NaN</td>\n      <td>43.0</td>\n      <td>906.0</td>\n      <td>1005.0</td>\n      <td>0.0</td>\n      <td>0.00000</td>\n      <td>NaN</td>\n      <td>8.75</td>\n      <td>NaN</td>\n      <td>NaN</td>\n      <td>NaN</td>\n      <td>NaN</td>\n      <td>NaN</td>\n    </tr>\n  </tbody>\n</table>\n<p>12251335 rows × 20 columns</p>\n</div>"
     },
     "execution_count": 3,
     "metadata": {},
     "output_type": "execute_result"
    }
   ],
   "source": [
    "df_all"
   ],
   "metadata": {
    "collapsed": false,
    "pycharm": {
     "name": "#%%\n"
    }
   }
  },
  {
   "cell_type": "markdown",
   "source": [
    "Review the data (columns, rows)"
   ],
   "metadata": {
    "collapsed": false,
    "pycharm": {
     "name": "#%% md\n"
    }
   }
  },
  {
   "cell_type": "code",
   "execution_count": 4,
   "outputs": [
    {
     "name": "stdout",
     "output_type": "stream",
     "text": [
      "<class 'pandas.core.frame.DataFrame'>\n",
      "RangeIndex: 12251335 entries, 0 to 12251334\n",
      "Data columns (total 20 columns):\n",
      " #   Column                     Dtype  \n",
      "---  ------                     -----  \n",
      " 0   Estacao                    int64  \n",
      " 1   Data                       object \n",
      " 2   Hora                       int64  \n",
      " 3   Precipitacao               float64\n",
      " 4   TempBulboSeco              float64\n",
      " 5   TempBulboUmido             float64\n",
      " 6   TempMaxima                 float64\n",
      " 7   TempMinima                 float64\n",
      " 8   UmidadeRelativa            float64\n",
      " 9   PressaoAtmEstacao          float64\n",
      " 10  PressaoAtmMar              float64\n",
      " 11  DirecaoVento               float64\n",
      " 12  VelocidadeVento            float64\n",
      " 13  Insolacao                  float64\n",
      " 14  Nebulosidade               float64\n",
      " 15  Evaporacao Piche           float64\n",
      " 16  Temp Comp Media            float64\n",
      " 17  Umidade Relativa Media     float64\n",
      " 18  Velocidade do Vento Media  float64\n",
      " 19  Unnamed: 19                float64\n",
      "dtypes: float64(17), int64(2), object(1)\n",
      "memory usage: 1.8+ GB\n"
     ]
    }
   ],
   "source": [
    "df_all.info()"
   ],
   "metadata": {
    "collapsed": false,
    "pycharm": {
     "name": "#%%\n"
    }
   }
  },
  {
   "cell_type": "code",
   "execution_count": 5,
   "outputs": [
    {
     "data": {
      "text/plain": "82331    64581\n82900    64255\n82861    64184\n83377    63767\n83423    63314\n         ...  \n83373    25338\n83319    24785\n83523    20161\n83267    19460\n83410    16376\nName: Estacao, Length: 265, dtype: int64"
     },
     "execution_count": 5,
     "metadata": {},
     "output_type": "execute_result"
    }
   ],
   "source": [
    "df_all['Estacao'].value_counts()"
   ],
   "metadata": {
    "collapsed": false,
    "pycharm": {
     "name": "#%%\n"
    }
   }
  },
  {
   "cell_type": "code",
   "execution_count": 6,
   "outputs": [],
   "source": [
    "data = df_all[df_all['Estacao'] == 82331]"
   ],
   "metadata": {
    "collapsed": false,
    "pycharm": {
     "name": "#%%\n"
    }
   }
  },
  {
   "cell_type": "markdown",
   "source": [
    "Pre-processing, cleaning the data"
   ],
   "metadata": {
    "collapsed": false,
    "pycharm": {
     "name": "#%% md\n"
    }
   }
  },
  {
   "cell_type": "markdown",
   "source": [
    "1. Choose columns (features) to use in the project\n",
    "- Time-series: \"Data\" (daily)\n",
    "- Main feature to perform forecasting methods on: Temperature (Celsius degree) = average of \"TempBulboSeco\" (Dry bulb temperature) and \"TempBulboUmido\" (Wet bulb temperature) of 3 measures in a day.\n",
    "- Explanatory features (average of 3 measures in a day):\n",
    "\"Precipitacao\" - Precipitation (mm)\n",
    "\"UmidadeRelativa\" - Relative humidity (%)\n",
    "\"PressaoAtmEstacao\" - Station Atmospheric Pressure (mbar)\n",
    "\"VelocidadeVento\" - Wind speed(m/s)\n",
    "\"Nebulosidade\" - Cloudiness (tenths)\n",
    "\"Evaporacao Piche\" - Piche Evaporation (mm)"
   ],
   "metadata": {
    "collapsed": false,
    "pycharm": {
     "name": "#%% md\n"
    }
   }
  },
  {
   "cell_type": "code",
   "execution_count": 7,
   "outputs": [],
   "source": [
    "data_choose = data[['Data', 'TempBulboSeco', 'TempBulboUmido', 'Precipitacao', 'UmidadeRelativa', 'PressaoAtmEstacao', 'VelocidadeVento', 'Nebulosidade', 'Evaporacao Piche']].copy()"
   ],
   "metadata": {
    "collapsed": false,
    "pycharm": {
     "name": "#%%\n"
    }
   }
  },
  {
   "cell_type": "code",
   "execution_count": 8,
   "outputs": [],
   "source": [
    "data_choose.columns = ['Date', 'Temp1', 'Temp2', 'Precipitation', 'Humidity', 'Atmospheric_pressure', 'Wind_speed', 'Cloudiness', 'Evaporation_piche']"
   ],
   "metadata": {
    "collapsed": false,
    "pycharm": {
     "name": "#%%\n"
    }
   }
  },
  {
   "cell_type": "code",
   "execution_count": 9,
   "outputs": [
    {
     "name": "stdout",
     "output_type": "stream",
     "text": [
      "<class 'pandas.core.frame.DataFrame'>\n",
      "Int64Index: 64581 entries, 1242686 to 1307266\n",
      "Data columns (total 9 columns):\n",
      " #   Column                Non-Null Count  Dtype  \n",
      "---  ------                --------------  -----  \n",
      " 0   Date                  64581 non-null  object \n",
      " 1   Temp1                 64455 non-null  float64\n",
      " 2   Temp2                 59035 non-null  float64\n",
      " 3   Precipitation         21105 non-null  float64\n",
      " 4   Humidity              54969 non-null  float64\n",
      " 5   Atmospheric_pressure  60708 non-null  float64\n",
      " 6   Wind_speed            62682 non-null  float64\n",
      " 7   Cloudiness            63934 non-null  float64\n",
      " 8   Evaporation_piche     18638 non-null  float64\n",
      "dtypes: float64(8), object(1)\n",
      "memory usage: 4.9+ MB\n"
     ]
    }
   ],
   "source": [
    "data_choose.info()"
   ],
   "metadata": {
    "collapsed": false,
    "pycharm": {
     "name": "#%%\n"
    }
   }
  },
  {
   "cell_type": "code",
   "execution_count": 10,
   "outputs": [
    {
     "data": {
      "text/plain": "               Date  Temp1  Temp2  Precipitation  Humidity  \\\n1285358  01/01/2000   26.0   25.0            NaN      92.0   \n1285359  01/01/2000   24.4   23.2            5.0      90.0   \n1285360  01/01/2000   27.0   24.4            NaN      81.0   \n\n         Atmospheric_pressure  Wind_speed  Cloudiness  Evaporation_piche  \n1285358                1002.9         0.0         4.0                1.2  \n1285359                1004.8         3.0        10.0                NaN  \n1285360                1003.4         1.0         8.0                NaN  ",
      "text/html": "<div>\n<style scoped>\n    .dataframe tbody tr th:only-of-type {\n        vertical-align: middle;\n    }\n\n    .dataframe tbody tr th {\n        vertical-align: top;\n    }\n\n    .dataframe thead th {\n        text-align: right;\n    }\n</style>\n<table border=\"1\" class=\"dataframe\">\n  <thead>\n    <tr style=\"text-align: right;\">\n      <th></th>\n      <th>Date</th>\n      <th>Temp1</th>\n      <th>Temp2</th>\n      <th>Precipitation</th>\n      <th>Humidity</th>\n      <th>Atmospheric_pressure</th>\n      <th>Wind_speed</th>\n      <th>Cloudiness</th>\n      <th>Evaporation_piche</th>\n    </tr>\n  </thead>\n  <tbody>\n    <tr>\n      <th>1285358</th>\n      <td>01/01/2000</td>\n      <td>26.0</td>\n      <td>25.0</td>\n      <td>NaN</td>\n      <td>92.0</td>\n      <td>1002.9</td>\n      <td>0.0</td>\n      <td>4.0</td>\n      <td>1.2</td>\n    </tr>\n    <tr>\n      <th>1285359</th>\n      <td>01/01/2000</td>\n      <td>24.4</td>\n      <td>23.2</td>\n      <td>5.0</td>\n      <td>90.0</td>\n      <td>1004.8</td>\n      <td>3.0</td>\n      <td>10.0</td>\n      <td>NaN</td>\n    </tr>\n    <tr>\n      <th>1285360</th>\n      <td>01/01/2000</td>\n      <td>27.0</td>\n      <td>24.4</td>\n      <td>NaN</td>\n      <td>81.0</td>\n      <td>1003.4</td>\n      <td>1.0</td>\n      <td>8.0</td>\n      <td>NaN</td>\n    </tr>\n  </tbody>\n</table>\n</div>"
     },
     "execution_count": 10,
     "metadata": {},
     "output_type": "execute_result"
    }
   ],
   "source": [
    "data_choose[data_choose['Date']=='01/01/2000']"
   ],
   "metadata": {
    "collapsed": false,
    "pycharm": {
     "name": "#%%\n"
    }
   }
  },
  {
   "cell_type": "code",
   "execution_count": 11,
   "outputs": [],
   "source": [
    "data_choose = data_choose.loc[1285358:].copy()"
   ],
   "metadata": {
    "collapsed": false,
    "pycharm": {
     "name": "#%%\n"
    }
   }
  },
  {
   "cell_type": "code",
   "execution_count": 12,
   "outputs": [
    {
     "data": {
      "text/plain": "Date                    0.000000\nTemp1                   0.001506\nTemp2                   0.248619\nPrecipitation           0.666667\nHumidity                0.002191\nAtmospheric_pressure    0.098407\nWind_speed              0.000776\nCloudiness              0.000639\nEvaporation_piche       0.749464\ndtype: float64"
     },
     "execution_count": 12,
     "metadata": {},
     "output_type": "execute_result"
    }
   ],
   "source": [
    "data_choose.isnull().sum()/len(data_choose)"
   ],
   "metadata": {
    "collapsed": false,
    "pycharm": {
     "name": "#%%\n"
    }
   }
  },
  {
   "cell_type": "markdown",
   "source": [
    "\n",
    "Drop \"Temp2\", \"Precipitation\", \"Humidity\" and \"Evaporation_piche\" because these columns have high rates of missing data."
   ],
   "metadata": {
    "collapsed": false,
    "pycharm": {
     "name": "#%% md\n"
    }
   }
  },
  {
   "cell_type": "code",
   "execution_count": 13,
   "outputs": [],
   "source": [
    "data_clean = data_choose.drop(columns=['Temp2', 'Precipitation', 'Evaporation_piche'])"
   ],
   "metadata": {
    "collapsed": false,
    "pycharm": {
     "name": "#%%\n"
    }
   }
  },
  {
   "cell_type": "code",
   "execution_count": 14,
   "outputs": [],
   "source": [
    "data_clean.reset_index(drop=True, inplace=True)"
   ],
   "metadata": {
    "collapsed": false,
    "pycharm": {
     "name": "#%%\n"
    }
   }
  },
  {
   "cell_type": "markdown",
   "source": [
    "Fill missing values in each column"
   ],
   "metadata": {
    "collapsed": false,
    "pycharm": {
     "name": "#%% md\n"
    }
   }
  },
  {
   "cell_type": "code",
   "execution_count": 15,
   "outputs": [],
   "source": [
    "import numpy as np"
   ],
   "metadata": {
    "collapsed": false,
    "pycharm": {
     "name": "#%%\n"
    }
   }
  },
  {
   "cell_type": "code",
   "execution_count": 16,
   "outputs": [],
   "source": [
    "def fill_na(df: pd.DataFrame, col: str, indices: list):\n",
    "    for ind in indices:\n",
    "        if ind in [0, 1, 2]:\n",
    "            df.loc[ind, col] = df.loc[ind+3, col]\n",
    "            continue\n",
    "\n",
    "        if ind in [len(df)-1, len(df)-2, len(df)-3]:\n",
    "            df.loc[ind, col] = df.loc[ind-3, col]\n",
    "            continue\n",
    "\n",
    "        if not np.isnan(df.loc[ind-3, col]):\n",
    "            df.loc[ind, col] = df.loc[ind-3, col]\n",
    "        else:\n",
    "            df.loc[ind, col] = df.loc[ind+3, col]"
   ],
   "metadata": {
    "collapsed": false,
    "pycharm": {
     "name": "#%%\n"
    }
   }
  },
  {
   "cell_type": "code",
   "execution_count": 17,
   "outputs": [],
   "source": [
    "def deal_missing_value(df: pd.DataFrame):\n",
    "    cols = list(df.columns)[1:]\n",
    "    for col in cols:\n",
    "        col = str(col)\n",
    "        fill_na(data_clean, col, data_clean[col].index[data_clean[col].apply(np.isnan)])"
   ],
   "metadata": {
    "collapsed": false,
    "pycharm": {
     "name": "#%%\n"
    }
   }
  },
  {
   "cell_type": "code",
   "execution_count": 18,
   "outputs": [],
   "source": [
    "deal_missing_value(data_clean)"
   ],
   "metadata": {
    "collapsed": false,
    "pycharm": {
     "name": "#%%\n"
    }
   }
  },
  {
   "cell_type": "code",
   "execution_count": 19,
   "outputs": [
    {
     "data": {
      "text/plain": "Date                    0\nTemp1                   0\nHumidity                0\nAtmospheric_pressure    0\nWind_speed              0\nCloudiness              0\ndtype: int64"
     },
     "execution_count": 19,
     "metadata": {},
     "output_type": "execute_result"
    }
   ],
   "source": [
    "data_clean.isnull().sum()"
   ],
   "metadata": {
    "collapsed": false,
    "pycharm": {
     "name": "#%%\n"
    }
   }
  },
  {
   "cell_type": "code",
   "execution_count": 20,
   "outputs": [],
   "source": [
    "data_clean.to_csv('data_pre-processed/data_daily_3perday_from2000.csv', index=False)"
   ],
   "metadata": {
    "collapsed": false,
    "pycharm": {
     "name": "#%%\n"
    }
   }
  },
  {
   "cell_type": "code",
   "execution_count": 21,
   "outputs": [],
   "source": [
    "data_clean['Date'] = pd.to_datetime(data_clean['Date'], format='%d/%m/%Y')"
   ],
   "metadata": {
    "collapsed": false,
    "pycharm": {
     "name": "#%%\n"
    }
   }
  },
  {
   "cell_type": "code",
   "execution_count": 22,
   "outputs": [
    {
     "name": "stdout",
     "output_type": "stream",
     "text": [
      "<class 'pandas.core.frame.DataFrame'>\n",
      "RangeIndex: 21909 entries, 0 to 21908\n",
      "Data columns (total 6 columns):\n",
      " #   Column                Non-Null Count  Dtype         \n",
      "---  ------                --------------  -----         \n",
      " 0   Date                  21909 non-null  datetime64[ns]\n",
      " 1   Temp1                 21909 non-null  float64       \n",
      " 2   Humidity              21909 non-null  float64       \n",
      " 3   Atmospheric_pressure  21909 non-null  float64       \n",
      " 4   Wind_speed            21909 non-null  float64       \n",
      " 5   Cloudiness            21909 non-null  float64       \n",
      "dtypes: datetime64[ns](1), float64(5)\n",
      "memory usage: 1.0 MB\n"
     ]
    }
   ],
   "source": [
    "data_clean.info()"
   ],
   "metadata": {
    "collapsed": false,
    "pycharm": {
     "name": "#%%\n"
    }
   }
  },
  {
   "cell_type": "markdown",
   "source": [
    "Calculate average daily data (from 3 times per day)"
   ],
   "metadata": {
    "collapsed": false,
    "pycharm": {
     "name": "#%% md\n"
    }
   }
  },
  {
   "cell_type": "code",
   "execution_count": 24,
   "outputs": [
    {
     "data": {
      "text/plain": "                Temp1   Humidity  Atmospheric_pressure  Wind_speed  Cloudiness\nDate                                                                          \n2000-01-01  25.800000  87.666667           1003.700000    1.333333    7.333333\n2000-01-02  26.000000  86.333333           1004.066667    0.333333    8.333333\n2000-01-03  25.866667  85.333333           1003.733333    0.000000    8.666667\n2000-01-04  26.800000  81.000000           1003.500000    0.000000    6.666667\n2000-01-05  25.066667  87.000000           1003.866667    0.000000    8.333333\n...               ...        ...                   ...         ...         ...\n2019-12-27  27.666667  88.333333           1000.266667    0.685920    6.666667\n2019-12-28  26.266667  88.000000           1000.266667    0.685920    8.750000\n2019-12-29  27.600000  84.000000           1000.266667    1.371840    8.750000\n2019-12-30  27.233333  83.666667           1000.266667    0.000000    9.166667\n2019-12-31  26.466667  85.666667           1000.266667    0.685920    9.583333\n\n[7305 rows x 5 columns]",
      "text/html": "<div>\n<style scoped>\n    .dataframe tbody tr th:only-of-type {\n        vertical-align: middle;\n    }\n\n    .dataframe tbody tr th {\n        vertical-align: top;\n    }\n\n    .dataframe thead th {\n        text-align: right;\n    }\n</style>\n<table border=\"1\" class=\"dataframe\">\n  <thead>\n    <tr style=\"text-align: right;\">\n      <th></th>\n      <th>Temp1</th>\n      <th>Humidity</th>\n      <th>Atmospheric_pressure</th>\n      <th>Wind_speed</th>\n      <th>Cloudiness</th>\n    </tr>\n    <tr>\n      <th>Date</th>\n      <th></th>\n      <th></th>\n      <th></th>\n      <th></th>\n      <th></th>\n    </tr>\n  </thead>\n  <tbody>\n    <tr>\n      <th>2000-01-01</th>\n      <td>25.800000</td>\n      <td>87.666667</td>\n      <td>1003.700000</td>\n      <td>1.333333</td>\n      <td>7.333333</td>\n    </tr>\n    <tr>\n      <th>2000-01-02</th>\n      <td>26.000000</td>\n      <td>86.333333</td>\n      <td>1004.066667</td>\n      <td>0.333333</td>\n      <td>8.333333</td>\n    </tr>\n    <tr>\n      <th>2000-01-03</th>\n      <td>25.866667</td>\n      <td>85.333333</td>\n      <td>1003.733333</td>\n      <td>0.000000</td>\n      <td>8.666667</td>\n    </tr>\n    <tr>\n      <th>2000-01-04</th>\n      <td>26.800000</td>\n      <td>81.000000</td>\n      <td>1003.500000</td>\n      <td>0.000000</td>\n      <td>6.666667</td>\n    </tr>\n    <tr>\n      <th>2000-01-05</th>\n      <td>25.066667</td>\n      <td>87.000000</td>\n      <td>1003.866667</td>\n      <td>0.000000</td>\n      <td>8.333333</td>\n    </tr>\n    <tr>\n      <th>...</th>\n      <td>...</td>\n      <td>...</td>\n      <td>...</td>\n      <td>...</td>\n      <td>...</td>\n    </tr>\n    <tr>\n      <th>2019-12-27</th>\n      <td>27.666667</td>\n      <td>88.333333</td>\n      <td>1000.266667</td>\n      <td>0.685920</td>\n      <td>6.666667</td>\n    </tr>\n    <tr>\n      <th>2019-12-28</th>\n      <td>26.266667</td>\n      <td>88.000000</td>\n      <td>1000.266667</td>\n      <td>0.685920</td>\n      <td>8.750000</td>\n    </tr>\n    <tr>\n      <th>2019-12-29</th>\n      <td>27.600000</td>\n      <td>84.000000</td>\n      <td>1000.266667</td>\n      <td>1.371840</td>\n      <td>8.750000</td>\n    </tr>\n    <tr>\n      <th>2019-12-30</th>\n      <td>27.233333</td>\n      <td>83.666667</td>\n      <td>1000.266667</td>\n      <td>0.000000</td>\n      <td>9.166667</td>\n    </tr>\n    <tr>\n      <th>2019-12-31</th>\n      <td>26.466667</td>\n      <td>85.666667</td>\n      <td>1000.266667</td>\n      <td>0.685920</td>\n      <td>9.583333</td>\n    </tr>\n  </tbody>\n</table>\n<p>7305 rows × 5 columns</p>\n</div>"
     },
     "execution_count": 24,
     "metadata": {},
     "output_type": "execute_result"
    }
   ],
   "source": [
    "df = data_clean.groupby('Date').mean()\n",
    "df"
   ],
   "metadata": {
    "collapsed": false,
    "pycharm": {
     "name": "#%%\n"
    }
   }
  },
  {
   "cell_type": "code",
   "execution_count": 26,
   "outputs": [
    {
     "data": {
      "text/plain": "             Avg_temp   Humidity  Atmospheric_pressure  Wind_speed  Cloudiness\nDate                                                                          \n2000-01-01  25.800000  87.666667           1003.700000    1.333333    7.333333\n2000-01-02  26.000000  86.333333           1004.066667    0.333333    8.333333\n2000-01-03  25.866667  85.333333           1003.733333    0.000000    8.666667\n2000-01-04  26.800000  81.000000           1003.500000    0.000000    6.666667\n2000-01-05  25.066667  87.000000           1003.866667    0.000000    8.333333\n...               ...        ...                   ...         ...         ...\n2019-12-27  27.666667  88.333333           1000.266667    0.685920    6.666667\n2019-12-28  26.266667  88.000000           1000.266667    0.685920    8.750000\n2019-12-29  27.600000  84.000000           1000.266667    1.371840    8.750000\n2019-12-30  27.233333  83.666667           1000.266667    0.000000    9.166667\n2019-12-31  26.466667  85.666667           1000.266667    0.685920    9.583333\n\n[7305 rows x 5 columns]",
      "text/html": "<div>\n<style scoped>\n    .dataframe tbody tr th:only-of-type {\n        vertical-align: middle;\n    }\n\n    .dataframe tbody tr th {\n        vertical-align: top;\n    }\n\n    .dataframe thead th {\n        text-align: right;\n    }\n</style>\n<table border=\"1\" class=\"dataframe\">\n  <thead>\n    <tr style=\"text-align: right;\">\n      <th></th>\n      <th>Avg_temp</th>\n      <th>Humidity</th>\n      <th>Atmospheric_pressure</th>\n      <th>Wind_speed</th>\n      <th>Cloudiness</th>\n    </tr>\n    <tr>\n      <th>Date</th>\n      <th></th>\n      <th></th>\n      <th></th>\n      <th></th>\n      <th></th>\n    </tr>\n  </thead>\n  <tbody>\n    <tr>\n      <th>2000-01-01</th>\n      <td>25.800000</td>\n      <td>87.666667</td>\n      <td>1003.700000</td>\n      <td>1.333333</td>\n      <td>7.333333</td>\n    </tr>\n    <tr>\n      <th>2000-01-02</th>\n      <td>26.000000</td>\n      <td>86.333333</td>\n      <td>1004.066667</td>\n      <td>0.333333</td>\n      <td>8.333333</td>\n    </tr>\n    <tr>\n      <th>2000-01-03</th>\n      <td>25.866667</td>\n      <td>85.333333</td>\n      <td>1003.733333</td>\n      <td>0.000000</td>\n      <td>8.666667</td>\n    </tr>\n    <tr>\n      <th>2000-01-04</th>\n      <td>26.800000</td>\n      <td>81.000000</td>\n      <td>1003.500000</td>\n      <td>0.000000</td>\n      <td>6.666667</td>\n    </tr>\n    <tr>\n      <th>2000-01-05</th>\n      <td>25.066667</td>\n      <td>87.000000</td>\n      <td>1003.866667</td>\n      <td>0.000000</td>\n      <td>8.333333</td>\n    </tr>\n    <tr>\n      <th>...</th>\n      <td>...</td>\n      <td>...</td>\n      <td>...</td>\n      <td>...</td>\n      <td>...</td>\n    </tr>\n    <tr>\n      <th>2019-12-27</th>\n      <td>27.666667</td>\n      <td>88.333333</td>\n      <td>1000.266667</td>\n      <td>0.685920</td>\n      <td>6.666667</td>\n    </tr>\n    <tr>\n      <th>2019-12-28</th>\n      <td>26.266667</td>\n      <td>88.000000</td>\n      <td>1000.266667</td>\n      <td>0.685920</td>\n      <td>8.750000</td>\n    </tr>\n    <tr>\n      <th>2019-12-29</th>\n      <td>27.600000</td>\n      <td>84.000000</td>\n      <td>1000.266667</td>\n      <td>1.371840</td>\n      <td>8.750000</td>\n    </tr>\n    <tr>\n      <th>2019-12-30</th>\n      <td>27.233333</td>\n      <td>83.666667</td>\n      <td>1000.266667</td>\n      <td>0.000000</td>\n      <td>9.166667</td>\n    </tr>\n    <tr>\n      <th>2019-12-31</th>\n      <td>26.466667</td>\n      <td>85.666667</td>\n      <td>1000.266667</td>\n      <td>0.685920</td>\n      <td>9.583333</td>\n    </tr>\n  </tbody>\n</table>\n<p>7305 rows × 5 columns</p>\n</div>"
     },
     "execution_count": 26,
     "metadata": {},
     "output_type": "execute_result"
    }
   ],
   "source": [
    "df.rename(columns = {'Temp1': 'Avg_temp'}, inplace = True)\n",
    "df"
   ],
   "metadata": {
    "collapsed": false,
    "pycharm": {
     "name": "#%%\n"
    }
   }
  },
  {
   "cell_type": "markdown",
   "source": [
    "Remove leap day (29/2/....) of each year"
   ],
   "metadata": {
    "collapsed": false,
    "pycharm": {
     "name": "#%% md\n"
    }
   }
  },
  {
   "cell_type": "code",
   "execution_count": 27,
   "outputs": [
    {
     "data": {
      "text/plain": "             Avg_temp   Humidity  Atmospheric_pressure  Wind_speed  Cloudiness\nDate                                                                          \n2000-01-01  25.800000  87.666667           1003.700000    1.333333    7.333333\n2000-01-02  26.000000  86.333333           1004.066667    0.333333    8.333333\n2000-01-03  25.866667  85.333333           1003.733333    0.000000    8.666667\n2000-01-04  26.800000  81.000000           1003.500000    0.000000    6.666667\n2000-01-05  25.066667  87.000000           1003.866667    0.000000    8.333333\n...               ...        ...                   ...         ...         ...\n2019-12-27  27.666667  88.333333           1000.266667    0.685920    6.666667\n2019-12-28  26.266667  88.000000           1000.266667    0.685920    8.750000\n2019-12-29  27.600000  84.000000           1000.266667    1.371840    8.750000\n2019-12-30  27.233333  83.666667           1000.266667    0.000000    9.166667\n2019-12-31  26.466667  85.666667           1000.266667    0.685920    9.583333\n\n[7300 rows x 5 columns]",
      "text/html": "<div>\n<style scoped>\n    .dataframe tbody tr th:only-of-type {\n        vertical-align: middle;\n    }\n\n    .dataframe tbody tr th {\n        vertical-align: top;\n    }\n\n    .dataframe thead th {\n        text-align: right;\n    }\n</style>\n<table border=\"1\" class=\"dataframe\">\n  <thead>\n    <tr style=\"text-align: right;\">\n      <th></th>\n      <th>Avg_temp</th>\n      <th>Humidity</th>\n      <th>Atmospheric_pressure</th>\n      <th>Wind_speed</th>\n      <th>Cloudiness</th>\n    </tr>\n    <tr>\n      <th>Date</th>\n      <th></th>\n      <th></th>\n      <th></th>\n      <th></th>\n      <th></th>\n    </tr>\n  </thead>\n  <tbody>\n    <tr>\n      <th>2000-01-01</th>\n      <td>25.800000</td>\n      <td>87.666667</td>\n      <td>1003.700000</td>\n      <td>1.333333</td>\n      <td>7.333333</td>\n    </tr>\n    <tr>\n      <th>2000-01-02</th>\n      <td>26.000000</td>\n      <td>86.333333</td>\n      <td>1004.066667</td>\n      <td>0.333333</td>\n      <td>8.333333</td>\n    </tr>\n    <tr>\n      <th>2000-01-03</th>\n      <td>25.866667</td>\n      <td>85.333333</td>\n      <td>1003.733333</td>\n      <td>0.000000</td>\n      <td>8.666667</td>\n    </tr>\n    <tr>\n      <th>2000-01-04</th>\n      <td>26.800000</td>\n      <td>81.000000</td>\n      <td>1003.500000</td>\n      <td>0.000000</td>\n      <td>6.666667</td>\n    </tr>\n    <tr>\n      <th>2000-01-05</th>\n      <td>25.066667</td>\n      <td>87.000000</td>\n      <td>1003.866667</td>\n      <td>0.000000</td>\n      <td>8.333333</td>\n    </tr>\n    <tr>\n      <th>...</th>\n      <td>...</td>\n      <td>...</td>\n      <td>...</td>\n      <td>...</td>\n      <td>...</td>\n    </tr>\n    <tr>\n      <th>2019-12-27</th>\n      <td>27.666667</td>\n      <td>88.333333</td>\n      <td>1000.266667</td>\n      <td>0.685920</td>\n      <td>6.666667</td>\n    </tr>\n    <tr>\n      <th>2019-12-28</th>\n      <td>26.266667</td>\n      <td>88.000000</td>\n      <td>1000.266667</td>\n      <td>0.685920</td>\n      <td>8.750000</td>\n    </tr>\n    <tr>\n      <th>2019-12-29</th>\n      <td>27.600000</td>\n      <td>84.000000</td>\n      <td>1000.266667</td>\n      <td>1.371840</td>\n      <td>8.750000</td>\n    </tr>\n    <tr>\n      <th>2019-12-30</th>\n      <td>27.233333</td>\n      <td>83.666667</td>\n      <td>1000.266667</td>\n      <td>0.000000</td>\n      <td>9.166667</td>\n    </tr>\n    <tr>\n      <th>2019-12-31</th>\n      <td>26.466667</td>\n      <td>85.666667</td>\n      <td>1000.266667</td>\n      <td>0.685920</td>\n      <td>9.583333</td>\n    </tr>\n  </tbody>\n</table>\n<p>7300 rows × 5 columns</p>\n</div>"
     },
     "execution_count": 27,
     "metadata": {},
     "output_type": "execute_result"
    }
   ],
   "source": [
    "df = df[df.index.strftime('%m-%d') != '02-29']\n",
    "df"
   ],
   "metadata": {
    "collapsed": false,
    "pycharm": {
     "name": "#%%\n"
    }
   }
  },
  {
   "cell_type": "code",
   "execution_count": 28,
   "outputs": [],
   "source": [
    "df.to_csv('data_pre-processed/data_daily_avg_from2000_365_withdate.csv')"
   ],
   "metadata": {
    "collapsed": false,
    "pycharm": {
     "name": "#%%\n"
    }
   }
  },
  {
   "cell_type": "code",
   "execution_count": 34,
   "outputs": [],
   "source": [
    "df_to2018 = df[:-365].copy()\n",
    "df_2019 = df[-365:].copy()"
   ],
   "metadata": {
    "collapsed": false,
    "pycharm": {
     "name": "#%%\n"
    }
   }
  },
  {
   "cell_type": "code",
   "execution_count": 40,
   "outputs": [],
   "source": [
    "df_to2018.to_csv('data_pre-processed/data_daily_avg_from2000_365_withdate_2000_to_2018.csv')\n",
    "df_2019.to_csv('data_pre-processed/data_daily_avg_from2000_365_withdate_2019.csv')"
   ],
   "metadata": {
    "collapsed": false,
    "pycharm": {
     "name": "#%%\n"
    }
   }
  },
  {
   "cell_type": "markdown",
   "source": [
    "Read the name of the chosen station"
   ],
   "metadata": {
    "collapsed": false,
    "pycharm": {
     "name": "#%% md\n"
    }
   }
  },
  {
   "cell_type": "code",
   "execution_count": 29,
   "outputs": [
    {
     "data": {
      "text/plain": "                          Nome  Código  Latitude  Longitude  Altitude  \\\n0                  ACARAU - CE   82294     -2.88     -40.14     16.50   \n1             AGUA BRANCA - AL   82989     -9.28     -37.90    605.34   \n2                 AIMORES - MG   83595    -19.49     -41.07     82.74   \n3              ALAGOINHAS - BA   83249    -12.14     -38.42    130.92   \n4                ALTAMIRA - PA   82353     -3.21     -52.21     74.04   \n..                         ...     ...       ...        ...       ...   \n260                VICOSA - MG   83642    -20.76     -42.86    712.20   \n261               VITORIA - ES   83648    -20.31     -40.31     36.20   \n262  VITORIA DA CONQUISTA - BA   83344    -14.88     -40.79    874.81   \n263           VOTUPORANGA - SP   83623    -20.41     -49.98    502.50   \n264               ZE DOCA - MA   82376     -3.26     -45.65     45.28   \n\n     Status da Operação Ínicio da Operação  \n0    Estação Desativada         01/01/1923  \n1      Estação Operante         05/05/1928  \n2      Estação Operante         01/06/1972  \n3      Estação Operante         01/01/1931  \n4      Estação Operante         24/04/1927  \n..                  ...                ...  \n260    Estação Operante         01/10/1919  \n261    Estação Operante         20/11/1923  \n262    Estação Operante         01/01/1936  \n263    Estação Operante         05/07/1976  \n264    Estação Operante         25/08/1970  \n\n[265 rows x 7 columns]",
      "text/html": "<div>\n<style scoped>\n    .dataframe tbody tr th:only-of-type {\n        vertical-align: middle;\n    }\n\n    .dataframe tbody tr th {\n        vertical-align: top;\n    }\n\n    .dataframe thead th {\n        text-align: right;\n    }\n</style>\n<table border=\"1\" class=\"dataframe\">\n  <thead>\n    <tr style=\"text-align: right;\">\n      <th></th>\n      <th>Nome</th>\n      <th>Código</th>\n      <th>Latitude</th>\n      <th>Longitude</th>\n      <th>Altitude</th>\n      <th>Status da Operação</th>\n      <th>Ínicio da Operação</th>\n    </tr>\n  </thead>\n  <tbody>\n    <tr>\n      <th>0</th>\n      <td>ACARAU - CE</td>\n      <td>82294</td>\n      <td>-2.88</td>\n      <td>-40.14</td>\n      <td>16.50</td>\n      <td>Estação Desativada</td>\n      <td>01/01/1923</td>\n    </tr>\n    <tr>\n      <th>1</th>\n      <td>AGUA BRANCA - AL</td>\n      <td>82989</td>\n      <td>-9.28</td>\n      <td>-37.90</td>\n      <td>605.34</td>\n      <td>Estação Operante</td>\n      <td>05/05/1928</td>\n    </tr>\n    <tr>\n      <th>2</th>\n      <td>AIMORES - MG</td>\n      <td>83595</td>\n      <td>-19.49</td>\n      <td>-41.07</td>\n      <td>82.74</td>\n      <td>Estação Operante</td>\n      <td>01/06/1972</td>\n    </tr>\n    <tr>\n      <th>3</th>\n      <td>ALAGOINHAS - BA</td>\n      <td>83249</td>\n      <td>-12.14</td>\n      <td>-38.42</td>\n      <td>130.92</td>\n      <td>Estação Operante</td>\n      <td>01/01/1931</td>\n    </tr>\n    <tr>\n      <th>4</th>\n      <td>ALTAMIRA - PA</td>\n      <td>82353</td>\n      <td>-3.21</td>\n      <td>-52.21</td>\n      <td>74.04</td>\n      <td>Estação Operante</td>\n      <td>24/04/1927</td>\n    </tr>\n    <tr>\n      <th>...</th>\n      <td>...</td>\n      <td>...</td>\n      <td>...</td>\n      <td>...</td>\n      <td>...</td>\n      <td>...</td>\n      <td>...</td>\n    </tr>\n    <tr>\n      <th>260</th>\n      <td>VICOSA - MG</td>\n      <td>83642</td>\n      <td>-20.76</td>\n      <td>-42.86</td>\n      <td>712.20</td>\n      <td>Estação Operante</td>\n      <td>01/10/1919</td>\n    </tr>\n    <tr>\n      <th>261</th>\n      <td>VITORIA - ES</td>\n      <td>83648</td>\n      <td>-20.31</td>\n      <td>-40.31</td>\n      <td>36.20</td>\n      <td>Estação Operante</td>\n      <td>20/11/1923</td>\n    </tr>\n    <tr>\n      <th>262</th>\n      <td>VITORIA DA CONQUISTA - BA</td>\n      <td>83344</td>\n      <td>-14.88</td>\n      <td>-40.79</td>\n      <td>874.81</td>\n      <td>Estação Operante</td>\n      <td>01/01/1936</td>\n    </tr>\n    <tr>\n      <th>263</th>\n      <td>VOTUPORANGA - SP</td>\n      <td>83623</td>\n      <td>-20.41</td>\n      <td>-49.98</td>\n      <td>502.50</td>\n      <td>Estação Operante</td>\n      <td>05/07/1976</td>\n    </tr>\n    <tr>\n      <th>264</th>\n      <td>ZE DOCA - MA</td>\n      <td>82376</td>\n      <td>-3.26</td>\n      <td>-45.65</td>\n      <td>45.28</td>\n      <td>Estação Operante</td>\n      <td>25/08/1970</td>\n    </tr>\n  </tbody>\n</table>\n<p>265 rows × 7 columns</p>\n</div>"
     },
     "execution_count": 29,
     "metadata": {},
     "output_type": "execute_result"
    }
   ],
   "source": [
    "names = pd.read_csv('data_raw\\many_factors\\weather_stations_codes.csv', sep= ';')\n",
    "names"
   ],
   "metadata": {
    "collapsed": false,
    "pycharm": {
     "name": "#%%\n"
    }
   }
  },
  {
   "cell_type": "code",
   "execution_count": 30,
   "outputs": [
    {
     "data": {
      "text/plain": "            Nome  Código  Latitude  Longitude  Altitude Status da Operação  \\\n155  MANAUS - AM   82331      -3.1     -60.01     61.25   Estação Operante   \n\n    Ínicio da Operação  \n155         01/01/1910  ",
      "text/html": "<div>\n<style scoped>\n    .dataframe tbody tr th:only-of-type {\n        vertical-align: middle;\n    }\n\n    .dataframe tbody tr th {\n        vertical-align: top;\n    }\n\n    .dataframe thead th {\n        text-align: right;\n    }\n</style>\n<table border=\"1\" class=\"dataframe\">\n  <thead>\n    <tr style=\"text-align: right;\">\n      <th></th>\n      <th>Nome</th>\n      <th>Código</th>\n      <th>Latitude</th>\n      <th>Longitude</th>\n      <th>Altitude</th>\n      <th>Status da Operação</th>\n      <th>Ínicio da Operação</th>\n    </tr>\n  </thead>\n  <tbody>\n    <tr>\n      <th>155</th>\n      <td>MANAUS - AM</td>\n      <td>82331</td>\n      <td>-3.1</td>\n      <td>-60.01</td>\n      <td>61.25</td>\n      <td>Estação Operante</td>\n      <td>01/01/1910</td>\n    </tr>\n  </tbody>\n</table>\n</div>"
     },
     "execution_count": 30,
     "metadata": {},
     "output_type": "execute_result"
    }
   ],
   "source": [
    "names[names['Código'] == 82331]"
   ],
   "metadata": {
    "collapsed": false,
    "pycharm": {
     "name": "#%%\n"
    }
   }
  }
 ],
 "metadata": {
  "kernelspec": {
   "display_name": "Python 3",
   "language": "python",
   "name": "python3"
  },
  "language_info": {
   "codemirror_mode": {
    "name": "ipython",
    "version": 2
   },
   "file_extension": ".py",
   "mimetype": "text/x-python",
   "name": "python",
   "nbconvert_exporter": "python",
   "pygments_lexer": "ipython2",
   "version": "2.7.6"
  }
 },
 "nbformat": 4,
 "nbformat_minor": 0
}